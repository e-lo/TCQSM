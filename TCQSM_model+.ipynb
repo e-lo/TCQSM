{
 "cells": [
  {
   "cell_type": "markdown",
   "metadata": {},
   "source": [
    "## Dwell Time Formula Calculator for TCQSM\n",
    "\n",
    "__Reference for parameters__  \n",
    "E7 : avg_boarding_volume  \n",
    "E8 : avg_alighting_volume   \n",
    "E9 : boarding_door   \n",
    "E10 : fare_payment  \n",
    "E11 : boarding_height  \n",
    "E12 : standee  \n",
    "E13 : num_door  \n",
    "E14 : num_door_channel  \n",
    "E15 : percent_boarder_use_farebox  \n",
    "E16 : door_open_close_time  \n",
    "E17 : num_loading_area  "
   ]
  },
  {
   "cell_type": "code",
   "execution_count": null,
   "metadata": {
    "collapsed": true
   },
   "outputs": [],
   "source": [
    "E7 = \"[boards]\"                   # average boarding volume\n",
    "E8 = \"[alights]\"                  # average alighting volume\n",
    "E9 = ['Front Door','All'] # Boarding doors\n",
    "E10 = {                   # fare payment method\n",
    "    'None'                : 1.75, \n",
    "    'Visual inspection'   : 2.00, \n",
    "    'Single ticket/token' : 3.00, \n",
    "    'Exact change'        : 4.50,\n",
    "    'Ticket validator'    : 4.00, \n",
    "    'Magstripe card'      : 5.00, \n",
    "    'Smart card'          : 2.75, \n",
    "    'User-defined'        : 4.50\n",
    "    }\n",
    "\n",
    "E11 =                   # Boarding height\n",
    "E12 = ['No', 'Yes']     # Standees present\n",
    "E13 = [1, 2, 3]         # Number of doors\n",
    "E14 = [1, 2, 3, 4, 5, 6]# Available door channels \n",
    "#Lookup_Table1\n",
    "CHANNEL1_BOARD = {       # Door channel with lookup table: percentage of passenger using busiest channel \n",
    "    1: 1.0, \n",
    "    2: 0.6, \n",
    "    3: 0.45,\n",
    "    4: 0.35, \n",
    "    6: 0.25}\n",
    "\n",
    "CHANNEL1_ALIGHT = {       # Door channel with lookup table: percentage of passenger using busiest channel \n",
    "    1: 1.0, \n",
    "    2: 0.55, \n",
    "    3: 0.45,\n",
    "    4: 0.35, \n",
    "    6: 0.25}\n",
    "\n",
    "E15 = 45%               # percent of boarders using farebox\n",
    "E16 = 4                 # Door open and closing time\n",
    "E17 = [1, 2, 3]         # Loading area\n",
    "\n",
    "Lookup_Table2 = {       # Boarding lost time\n",
    "    1:{2:0}, \n",
    "    2:{2:2}, \n",
    "    3:{2:4}, \n",
    "    4:{2:6}, \n",
    "    5:{2:8}\n",
    "    }\n"
   ]
  },
  {
   "cell_type": "markdown",
   "metadata": {},
   "source": [
    "# Pb: Boarding passenger through door channel\n",
    "Pb1: Passengers boarding through door channel 1  \n",
    "Excel formula: \n",
    "\n",
    "    Pb1 = IF(E9=\"\",\"\",E7×IF(E9=\"All\",IF(E10=\"None\",VLOOKUP(E14,Lookup::Table 1::$G$11:$I$15,2),E15),IF(E14>E13,E15,1)))\n"
   ]
  },
  {
   "cell_type": "code",
   "execution_count": null,
   "metadata": {
    "collapsed": true
   },
   "outputs": [],
   "source": [
    "def paxThruChannel_1(boarding_doors, fare_pmt_method, fare_box_use_pct, doors, channels)\n",
    "    if boarding_doors.lower() == \"all\" and fare_pmt_method.lower() == \"none\":\n",
    "        return CHANNEL1_BOARD[channels] + \"*[boards]\"\n",
    "\n",
    "    if channels > doors or boarding_doors.lower() == \"all\":\n",
    "        return fare_box_use_pct + \"*[boards]\"\n",
    "\n",
    "    return \"1*[boards]\"\n",
    "\n",
    "Pb1 = paxThruChannel_1(E9, E10, E15, E13, E14)"
   ]
  },
  {
   "cell_type": "markdown",
   "metadata": {},
   "source": [
    "# Pb2: Boarding passenger through door channel 2\n",
    "\n",
    "Excel formula: \n",
    "\n",
    "    Pb2 =IF(E9=\"\",\"\",IF(AND(E13=E14,E9=\"Front\"),\"\",IF(E9=\"Front\",E7−E20,(E7−E20)÷(E14−1))))"
   ]
  },
  {
   "cell_type": "code",
   "execution_count": null,
   "metadata": {
    "collapsed": true
   },
   "outputs": [],
   "source": [
    "def paxThruChannel_2(boarding_doors, doors, channels)\n",
    "    if boarding_doors.lower() == 'front':\n",
    "        if doors == channels \n",
    "            return \"\"\n",
    "        return \n",
    "\n",
    "\n",
    "if E13==E14 and E9== 'Front': \n",
    "    Pb2 = \"\"\n",
    "else: \n",
    "    if E9 == \"Front\": \n",
    "        Pb2 = E7 - E20\n",
    "    else: \n",
    "        Pb2 = (E7-E20)/(E14-1)\n",
    "            "
   ]
  },
  {
   "cell_type": "code",
   "execution_count": null,
   "metadata": {
    "collapsed": true
   },
   "outputs": [],
   "source": [
    "# Pb3: ......Channel 3/4/5\n",
    "# Pb3 =IF(E$9=\"Front\",\"\",IF(E$14<3,\"\",E$21))\n",
    "# Pb4 = IF(E$9=\"Front\",\"\",IF(E$14<4,\"\",E$21))\n",
    "# Pb5 = IF(E$9=\"Front\",\"\",IF(E$14<5,\"\",E$21))\n",
    "def boarding_pasg_door_channel(num_channel):\n",
    "    if E9 = \"Front\": \n",
    "        Pb = \"\"\n",
    "    else: \n",
    "        if E14 < num_channel: \n",
    "            Pb = \"\"\n",
    "        else: \n",
    "            Pb = E21\n",
    "    return Pb\n"
   ]
  },
  {
   "cell_type": "code",
   "execution_count": null,
   "metadata": {
    "collapsed": true
   },
   "outputs": [],
   "source": [
    "Pb3 = boarding_pasg_door_channel(3)\n",
    "Pb4 = boarding_pasg_door_channel(4)\n",
    "Pb5 = boarding_pasg_door_channel(5)"
   ]
  },
  {
   "cell_type": "markdown",
   "metadata": {},
   "source": [
    "# Pa: Alighting passengers through door channel"
   ]
  },
  {
   "cell_type": "code",
   "execution_count": null,
   "metadata": {
    "collapsed": true
   },
   "outputs": [],
   "source": [
    "# Pa1 =IF(E9=\"\",\"\",E8×IF(E14>E13,0,IF(E14=1,1,IF(E14=2,0.25,(1−VLOOKUP(E14,Lookup::Table 1::$G$11:$I$15,3,FALSE))÷(E14−1)))))\n",
    "if E9 == \"\":\n",
    "    Pa1 = \"\"\n",
    "else:\n",
    "    if E14 > E13:\n",
    "        Pa1 = E8 * 0\n",
    "    else: \n",
    "        if E14 == 1: \n",
    "            Pa1 = E8 * 1\n",
    "        else: \n",
    "            if E14 == 2: \n",
    "                Pa1 = E8 * 0.25\n",
    "            else: \n",
    "                value_a1 = Lookup_Table1[E14[3]]\n",
    "                Pa1 = E8 * ((1 - value_a1) / (E14 - 1))"
   ]
  },
  {
   "cell_type": "code",
   "execution_count": null,
   "metadata": {
    "collapsed": true
   },
   "outputs": [],
   "source": [
    "# Pa2 =IF(OR(E9=\"\",E14=1),\"\",E8×IF(E13=1,1,IF(AND(E13=2,E14=3),0.25,(1−VLOOKUP(E14,Lookup::Table 1::$G$11:$I$15,3,FALSE))÷(E14−2))))\n",
    "if E9 == \"\" or E14 == 1: \n",
    "    Pa2 = \"\"\n",
    "else: \n",
    "    if E13 == 1:\n",
    "        Pa2 = E8 * 1\n",
    "    else: \n",
    "        if E13 == 2 and E14 == 3: \n",
    "            Pa2 = E8 * 0.25\n",
    "        else: \n",
    "            value_a2 = Lookup_Table1[E14[3]]\n",
    "            Pa2 = E8 * ((1- value_a2) / (E14 - 2))\n"
   ]
  },
  {
   "cell_type": "code",
   "execution_count": null,
   "metadata": {
    "collapsed": true
   },
   "outputs": [],
   "source": [
    "# Pa3 = IF(OR(E9=\"\",E14<3),\"\",E8×IF(AND(E13=2,E14=3),0.75,VLOOKUP(E14,Lookup::Table 1::$G$11:$I$15,3,FALSE)))\n",
    "if E9  == \"\" or E14 < 3: \n",
    "    Pa3 = \"\"\n",
    "else: \n",
    "    if E13 == 2 and E14 == 3: \n",
    "        Pa3 = E8 * 0.75\n",
    "    else: \n",
    "        value_a3 = Lookup_Table1[E14[3]]\n",
    "        Pa3 = E8 * value_a3\n",
    "        "
   ]
  },
  {
   "cell_type": "code",
   "execution_count": null,
   "metadata": {
    "collapsed": true
   },
   "outputs": [],
   "source": [
    "# Pa4 =IF(OR(E9=\"\",E14<4),\"\",(E8−SUM(E27:E29))÷(E14−2))\n",
    "# Pa5 =IF(OR(E9=\"\",E14<5),\"\",(E8−SUM(E27:E29))÷(E14−2))\n",
    "# Pa6 =IF(OR(E9=\"\",E14<6),\"\",(E8−SUM(E27:E29))÷(E14−2))\n",
    "def alighting_pasg_door_channel(num_channel): \n",
    "    if E9 == \"\" or E14 < num_channel:\n",
    "        Pa = \"\"\n",
    "    else: \n",
    "        Pa = (E8 - (Pa1 + Pa2 + Pa3)) / (E14 - 2)\n",
    "    return Pa"
   ]
  },
  {
   "cell_type": "code",
   "execution_count": null,
   "metadata": {
    "collapsed": true
   },
   "outputs": [],
   "source": [
    "Pa4 = alighting_pasg_door_channel(4)\n",
    "Pa5 = alighting_pasg_door_channel(5)\n",
    "Pa6 = alighting_pasg_door_channel(6)"
   ]
  },
  {
   "cell_type": "markdown",
   "metadata": {},
   "source": [
    "# Average boarding service time through door channel"
   ]
  },
  {
   "cell_type": "code",
   "execution_count": null,
   "metadata": {
    "collapsed": true
   },
   "outputs": [],
   "source": [
    "def avg_boarding_service_time(boarding_door, fare_payment, boarding_heig, standee, num_door, num_door_channel, boarding_pasg, alighting_pasg):\n",
    "    if (boarding_door == \"\") or (boarding_pasg == \"\") or (num_door_channel == 1):\n",
    "        Tb = \"\"\n",
    "    else: \n",
    "        if (alighting_pasg*3) > boarding_pasg:\n",
    "            if num_door_channel == 1: \n",
    "                value_Tb = Lookup_Table1[fare_payment[2]]\n",
    "                Tb = 1.2 * (0.5 * (boarding_heig = \"Stairs\")) + 1 * (boarding_heig = \"Steep stairs\") + 0.5 * (standee = \"Yes\") + value_Tb\n",
    "            if num_door_channel in [2,3,4,5,6]:\n",
    "                if (num_door_channel > num_door) and (fare_payment != \"None\"):\n",
    "                    Tb = 1.2 * (0.5 * (boarding_heig = \"Stairs\") + 1 * (boarding_heig = \"Steep stairs\") + 0.5*(standee = \"Yes\") + 2.0)\n",
    "                else: \n",
    "                    if E10 == \"Smart card\":\n",
    "                        Tb = 1.2 * (0.5 * (boarding_heig = \"Stairs\") + 1 * (boarding_heig = \"Steep stairs\") + 0.5*(standee = \"Yes\") + 2.75)\n",
    "                    else: \n",
    "                        Tb = 1.2 * (0.5 * (boarding_heig = \"Stairs\") + 1 * (boarding_heig = \"Steep stairs\") + 0.5*(standee = \"Yes\") + 1.75)           \n",
    "        else:\n",
    "            if num_door_channel == 1:\n",
    "                value_Tb = Lookup_Table1[fare_payment[2]]\n",
    "                Tb = 1 * (0.5 * (boarding_heig = \"Stairs\")) + 1 * (boarding_heig = \"Steep stairs\") + 0.5 * (standee = \"Yes\") + value_Tb\n",
    "            else num_door_channel in [2,3,4,5,6]:\n",
    "                if (num_door_channel > num_door) and (fare_payment != \"None\"):\n",
    "                    Tb = 1 * (0.5 * (boarding_heig = \"Stairs\") + 1 * (boarding_heig = \"Steep stairs\") + 0.5*(standee = \"Yes\") + 2.0)\n",
    "                else: \n",
    "                    if fare_payment == \"Smart card\":\n",
    "                        Tb = 1 * (0.5 * (boarding_heig = \"Stairs\") + 1 * (boarding_heig = \"Steep stairs\") + 0.5*(standee = \"Yes\") + 2.75)\n",
    "                    else: \n",
    "                        Tb = 1 * (0.5 * (boardin_heig = \"Stairs\") + 1 * (boarding_heig = \"Steep stairs\") + 0.5*(standee = \"Yes\") + 1.75)           \n",
    "    return Tb "
   ]
  },
  {
   "cell_type": "code",
   "execution_count": null,
   "metadata": {
    "collapsed": true
   },
   "outputs": [],
   "source": [
    "# Tb1 = IF(E9=\"\",\"\",IF(E27×3>E20,1.2,1)×(0.5×(E11=\"Stairs\")+1×(E11=\"Steep stairs\")+0.5×(E12=\"Yes\")+VLOOKUP(E10,Default Values::Table 1::$B$5:$C$12,2,FALSE)))\n",
    "Tb1 = avg_boarding_service_time(E9, E10, E11, E12, E13, E14, E20, E27)\n",
    "# Tb2 = IF(OR(E21=\"\",E14=1),\"\",IF(E28×3>E21,1.2,1)×(0.5×(E11=\"Stairs\")+1×(E11=\"Steep stairs\")+0.5×(E12=\"Yes\")\n",
    "#+IF(AND(E14>E13,E10≠\"None\"),Default Values::Table 1::$C$6,\n",
    "#IF(E10=\"Smart card\",Default Values::Table 1::C11,Default Values::Table 1::$C$5))))\n",
    "Tb2 = avg_boarding_service_time(E9, E10, E11, E12, E13, E14, E21, E28)\n",
    "# Tb3 = IF(E22=\"\",\"\",IF(E29×3>E22,1.2,1)×(0.5×(E11=\"Stairs\")+1×(E11=\"Steep stairs\")+0.5×(E12=\"Yes\")\n",
    "#+IF(AND(E14>E13,E10≠\"None\"),Default Values::Table 1::$C$6,\n",
    "#IF(E10=\"Smart card\",Default Values::Table 1::C11,Default Values::Table 1::$C$5))))\n",
    "Tb3 = avg_boarding_service_time(E9, E10, E11, E12, E13, E14, E22, E29)\n",
    "# Tb4_6 = IF(E23=\"\",\"\",IF(E30×3>E23,1.2,1)×(0.5×(E11=\"Stairs\")+1×(E11=\"Steep stairs\")+0.5×(E12=\"Yes\")\n",
    "#+IF(AND(E14>E13,E10≠\"None\"),Default Values::Table 1::$C$6,\n",
    "#IF(E10=\"Smart card\",Default Values::Table 1::C11,Default Values::Table 1::$C$5))))\n",
    "Tb4_6 = avg_boarding_service_time(E9, E10, E11, E12, E13, E14, E23, E30)"
   ]
  },
  {
   "cell_type": "markdown",
   "metadata": {},
   "source": [
    "# Average Alighting Service Time through door channels "
   ]
  },
  {
   "cell_type": "code",
   "execution_count": null,
   "metadata": {
    "collapsed": true
   },
   "outputs": [],
   "source": [
    "def avg_alighting_service_time_1_2(boarding_door, fare_payment, boarding_heig, standee,num_door, num_door_channel,boarding_pasg, alighting_pasg):\n",
    "    if (boarding_door == \"\") or (num_door_channel == 1): \n",
    "        Ta = \"\"\n",
    "    else: \n",
    "        if (alighting_pasg*3) > boarding_pasg:\n",
    "            if fare_payment == \"Smart card\":\n",
    "                Ta = 1.2 * (0.5 * (boarding_heig = \"Stairs\") + 1 * (boarding_heig = \"Steep stairs\") + 0.5*(standee = \"Yes\") + 3.5)\n",
    "            if fare_payment != \"Smart_card\": \n",
    "                if num_door_channel in [1, 2]:\n",
    "                    Ta = 1.2 * (0.5 * (boarding_heig = \"Stairs\") + 1 * (boarding_heig = \"Steep stairs\") + 0.5*(standee = \"Yes\") + 2.5)\n",
    "                if num_door_channel in [3, 4, 5, 6]:\n",
    "                    Ta = 1.2 * (0.5 * (boarding_heig = \"Stairs\") + 1 * (boarding_heig = \"Steep stairs\") + 0.5*(standee = \"Yes\") + 1.75)\n",
    "        else: \n",
    "            if fare_payment == \"Smart card\":\n",
    "                Ta = 1 * (0.5 * (boarding_heig = \"Stairs\") + 1 * (boarding_heig = \"Steep stairs\") + 0.5*(standee = \"Yes\") + 3.5)\n",
    "            if fare_payment != \"Smart_card\":\n",
    "                if num_door_channel == 1: \n",
    "                    Ta1 = 1 * (0.5 * (E11 = \"Stairs\") + 1 * (E11 = \"Steep stairs\") + 0.5*(E12 = \"Yes\") + 2.5)\n",
    "                if num_door_channel == 2: \n",
    "                    if num_door == num_door_channel:\n",
    "                        Ta = 1 * (0.5 * (boarding_heig = \"Stairs\") + 1 * (boarding_heig = \"Steep stairs\") + 0.5*(standee = \"Yes\") + 1.75)\n",
    "                    else:\n",
    "                        Ta = 1 * (0.5 * (boarding_heig = \"Stairs\") + 1 * (boarding_heig = \"Steep stairs\") + 0.5*(standee = \"Yes\") + 2.5)\n",
    "                if num_door_channel in [3, 4, 5, 6]:\n",
    "                    Ta1 = 1 * (0.5 * (E11 = \"Stairs\") + 1 * (E11 = \"Steep stairs\") + 0.5*(E12 = \"Yes\") + 1.75)\n",
    "    return Ta"
   ]
  },
  {
   "cell_type": "code",
   "execution_count": null,
   "metadata": {
    "collapsed": true
   },
   "outputs": [],
   "source": [
    "# Ta1 = IF(E9=\"\",\"\",IF(E27×3>E20,1.2,1)×(0.5×(E11=\"Stairs\")+1×(E11=\"Steep stairs\")+0.5×(E12=\"Yes\")\n",
    "#+IF(E10=\"Smart card\",Default Values::Table 1::$C$16,Default Values::Table 1::$C$14)))\n",
    "Ta1 = avg_alighting_service_time_1_2(E9, E10, E11, E12, E13, E14, E20, E27)\n",
    "# Ta2 = IF(OR(E9=\"\",E14=1),\"\",IF(E28×3>E21,1.2,1)×(0.5×(E11=\"Stairs\")+1×(E11=\"Steep stairs\")+0.5×(E12=\"Yes\")\n",
    "#+IF(E10=\"Smart card\",Default Values::Table 1::$C$16,\n",
    "#IF(E13=E14,Default Values::Table 1::$C$15,Default Values::Table 1::$C$14))))\n",
    "Ta2 = avg_alighting_service_time_1_2(E9, E10, E11, E12, E13, E14, E21, E28)\n",
    "# Ta3 = IF(OR(E9=\"\",E14<3),\"\",IF(E29×3>E22,1.2,1)×(0.5×(E11=\"Stairs\")+1×(E11=\"Steep stairs\")+0.5×(E12=\"Yes\")\n",
    "#+IF(E10=\"Smart card\",Default Values::Table 1::$C$16,Default Values::Table 1::$C$15)))\n",
    "Ta3 = avg_alighting_service_time_1_2(E9, E10, E11, E12, E13, E14, E22, E29)\n",
    "# Ta4_6 = IF(OR(E9=\"\",E14<4),\"\",IF(E30×3>E23,1.2,1)×(0.5×(E11=\"Stairs\")+1×(E11=\"Steep stairs\")+0.5×(E12=\"Yes\")\n",
    "#+IF(E10=\"Smart card\",Default Values::Table 1::$C$16,Default Values::Table 1::$C$15)))\n",
    "Ta4_6 = avg_alighting_service_time_1_2(E9, E10, E11, E12, E13, E14, E23, E30)"
   ]
  },
  {
   "cell_type": "markdown",
   "metadata": {},
   "source": [
    "# Passenger flow time for door channels"
   ]
  },
  {
   "cell_type": "code",
   "execution_count": null,
   "metadata": {
    "collapsed": true
   },
   "outputs": [],
   "source": [
    "# Tpf_numchannels\n",
    "def pasg_flow_time_door_channel(boarding_pasg, alighting_pasg, avg_boarding_service_time, avg_alighting_service_time):\n",
    "    if (boarding_pasg == \"\") and (alighting_pasg == \"\"):\n",
    "        Tpf = \"\"\n",
    "    else: \n",
    "        if boarding_pasg == \"\": \n",
    "            Tpf = alighting_pasg * avg_alighting_service_time\n",
    "        else: \n",
    "            if alighting_pasg == \"\":\n",
    "                Tpf = boarding_pasg * avg_boarding_service_time\n",
    "            else: \n",
    "                Tpf = (boarding_pasg * avg_boarding_service_time) + (alighting_pasg * avg_alighting_service_time)\n",
    "    return Tpf"
   ]
  },
  {
   "cell_type": "code",
   "execution_count": null,
   "metadata": {
    "collapsed": true
   },
   "outputs": [],
   "source": [
    "# Tpf1 = IF(AND(E20=\"\",E27=\"\"),\"\",IF(E20=\"\",E27×E39,IF(E27=\"\",E20×E34,(E20×E34)+(E27×E39))))\n",
    "# Tpf2 = IF(AND(E21=\"\",E28=\"\"),\"\",IF(E21=\"\",E28×E40,IF(E28=\"\",E21×E35,(E21×E35)+(E28×E40))))\n",
    "# Tpf3 = IF(AND(E22=\"\",E29=\"\"),\"\",IF(E22=\"\",E29×E41,IF(E29=\"\",E22×E36,(E22×E36)+(E29×E41))))\n",
    "# Tpf4 = IF(AND(E23=\"\",E30=\"\"),\"\",IF(E23=\"\",E30×E42,IF(E30=\"\",E23×E37,(E23×E37)+(E30×E42))))\n",
    "# Tpf5 = IF(AND(E24=\"\",E31=\"\"),\"\",IF(E24=\"\",E31×E42,IF(E31=\"\",E24×E37,(E24×E37)+(E31×E42))))\n",
    "# Tpf6 = IF(AND(E25=\"\",E32=\"\"),\"\",IF(E25=\"\",E32×E42,IF(E32=\"\",E25×E37,(E25×E37)+(E32×E42))))\n",
    "Tpf1 = pasg_flow_time_door_channel(E20, E27, E34, E39)\n",
    "Tpf2 = pasg_flow_time_door_channel(E21, E28, E35, E40)\n",
    "Tpf3 = pasg_flow_time_door_channel(E22, E29, E36, E41)\n",
    "Tpf4 = pasg_flow_time_door_channel(E23, E30, E37, E42)\n",
    "Tpf5 = pasg_flow_time_door_channel(E24, E31, E37, E42)\n",
    "Tpf6 = pasg_flow_time_door_channel(E25, E32, E37, E42)"
   ]
  },
  {
   "cell_type": "markdown",
   "metadata": {},
   "source": [
    "# Maximum passenger flow time of all door channel"
   ]
  },
  {
   "cell_type": "code",
   "execution_count": null,
   "metadata": {
    "collapsed": true
   },
   "outputs": [],
   "source": [
    "#Tpf_max=IF(E9=\"\",\"\",MAX(E44:E46))\n",
    "if boarding_door == \"\":\n",
    "    Tpf_max = \"\"\n",
    "else: \n",
    "    Tpf_max = np.max([Tpf1, Tpf2, Tpf3])"
   ]
  },
  {
   "cell_type": "markdown",
   "metadata": {},
   "source": [
    "# Boarding lost time "
   ]
  },
  {
   "cell_type": "code",
   "execution_count": null,
   "metadata": {
    "collapsed": true
   },
   "outputs": [],
   "source": [
    "# Tbl=IF(E17=\"\",\"\",VLOOKUP(E17,Lookup::Table 1::$G$18:$H$22,2,0))\n",
    "if num_loading_area == \"\":\n",
    "    Tbl = \"\"\n",
    "else: \n",
    "    Tbl = Lookup_Table2[E17[2]]"
   ]
  }
 ],
 "metadata": {
  "anaconda-cloud": {},
  "kernelspec": {
   "display_name": "Python [default]",
   "language": "python",
   "name": "python2"
  },
  "language_info": {
   "codemirror_mode": {
    "name": "ipython",
    "version": 2
   },
   "file_extension": ".py",
   "mimetype": "text/x-python",
   "name": "python",
   "nbconvert_exporter": "python",
   "pygments_lexer": "ipython2",
   "version": "2.7.13"
  }
 },
 "nbformat": 4,
 "nbformat_minor": 1
}
